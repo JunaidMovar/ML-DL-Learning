{
  "nbformat": 4,
  "nbformat_minor": 0,
  "metadata": {
    "colab": {
      "name": "BASIC_PERCEPTRON.ipynb",
      "provenance": [],
      "collapsed_sections": [],
      "authorship_tag": "ABX9TyN+ul5eD1+VdGEaScWVSj+g",
      "include_colab_link": true
    },
    "kernelspec": {
      "name": "python3",
      "display_name": "Python 3"
    }
  },
  "cells": [
    {
      "cell_type": "markdown",
      "metadata": {
        "id": "view-in-github",
        "colab_type": "text"
      },
      "source": [
        "<a href=\"https://colab.research.google.com/github/JunaidMovar/ML-DL-Learning/blob/master/BASIC_PERCEPTRON.ipynb\" target=\"_parent\"><img src=\"https://colab.research.google.com/assets/colab-badge.svg\" alt=\"Open In Colab\"/></a>"
      ]
    },
    {
      "cell_type": "markdown",
      "metadata": {
        "id": "kiK8xjY7_wpQ",
        "colab_type": "text"
      },
      "source": [
        "#What Is Perceptron ?\n",
        "It Is Basically Form Of WX+B Or Can Say Regressor In Other Words Y Value Estimator When Y Is Dependend On X Or In Simple Terms X Are Y Are Correlated \n",
        "\n",
        "Lets Begin With Small Example Program And Figure Out If Perceptron Is Worth Learning Or Not\n",
        "\n",
        "Let\n",
        "Function f(x) -> 2x + 5\n",
        "\n",
        "In Simple Words \n",
        "- X -> Y\n",
        "- 1 -> 7\n",
        "- 2 -> 9\n",
        "- 3 -> 11\n",
        "\n",
        "And So On\n",
        "\n",
        "Let's See How One Can Approximate Such Function With Supervised Learning Using Artificial Neural Network"
      ]
    },
    {
      "cell_type": "code",
      "metadata": {
        "id": "SifgvdSc_gxt",
        "colab_type": "code",
        "colab": {
          "base_uri": "https://localhost:8080/",
          "height": 689
        },
        "outputId": "1d1fd829-d80c-413c-ee1a-ad83811fd863"
      },
      "source": [
        "#First of All Let's Develop 2x + 5 Function for At Least 200 Value Pairs Of X -> Y\n",
        "import numpy as np\n",
        "X_Train = np.array([x for x in range(0,200)])\n",
        "Y_Train = np.array([(2*x)+5 for x in range(0,200)])\n",
        "#After Developing Training Data Let's Develop X and Y for Testing Data \n",
        "#This Can Be Also Called Unseen Data Or Realtime Exam Data For Neural Network\n",
        "X_Test= np.array([x for x in range(3000,3050)])\n",
        "Y_Test= np.array([(2*x)+5 for x in range(3000,3050)])\n",
        "\n",
        "#Print Them All And Check If Values Are Expected Or Not\n",
        "print(\"X_Train : \\n\\n\",X_Train)\n",
        "print(\"Y_Train : \\n\\n\",Y_Train)\n",
        "\n",
        "print(\"X_Test : \\n\\n\",X_Test)\n",
        "print(\"Y_Test : \\n\\n\",Y_Test)\n",
        "\n",
        "\n"
      ],
      "execution_count": 28,
      "outputs": [
        {
          "output_type": "stream",
          "text": [
            "X_Train : \n",
            "\n",
            " [  0   1   2   3   4   5   6   7   8   9  10  11  12  13  14  15  16  17\n",
            "  18  19  20  21  22  23  24  25  26  27  28  29  30  31  32  33  34  35\n",
            "  36  37  38  39  40  41  42  43  44  45  46  47  48  49  50  51  52  53\n",
            "  54  55  56  57  58  59  60  61  62  63  64  65  66  67  68  69  70  71\n",
            "  72  73  74  75  76  77  78  79  80  81  82  83  84  85  86  87  88  89\n",
            "  90  91  92  93  94  95  96  97  98  99 100 101 102 103 104 105 106 107\n",
            " 108 109 110 111 112 113 114 115 116 117 118 119 120 121 122 123 124 125\n",
            " 126 127 128 129 130 131 132 133 134 135 136 137 138 139 140 141 142 143\n",
            " 144 145 146 147 148 149 150 151 152 153 154 155 156 157 158 159 160 161\n",
            " 162 163 164 165 166 167 168 169 170 171 172 173 174 175 176 177 178 179\n",
            " 180 181 182 183 184 185 186 187 188 189 190 191 192 193 194 195 196 197\n",
            " 198 199]\n",
            "Y_Train : \n",
            "\n",
            " [  5   7   9  11  13  15  17  19  21  23  25  27  29  31  33  35  37  39\n",
            "  41  43  45  47  49  51  53  55  57  59  61  63  65  67  69  71  73  75\n",
            "  77  79  81  83  85  87  89  91  93  95  97  99 101 103 105 107 109 111\n",
            " 113 115 117 119 121 123 125 127 129 131 133 135 137 139 141 143 145 147\n",
            " 149 151 153 155 157 159 161 163 165 167 169 171 173 175 177 179 181 183\n",
            " 185 187 189 191 193 195 197 199 201 203 205 207 209 211 213 215 217 219\n",
            " 221 223 225 227 229 231 233 235 237 239 241 243 245 247 249 251 253 255\n",
            " 257 259 261 263 265 267 269 271 273 275 277 279 281 283 285 287 289 291\n",
            " 293 295 297 299 301 303 305 307 309 311 313 315 317 319 321 323 325 327\n",
            " 329 331 333 335 337 339 341 343 345 347 349 351 353 355 357 359 361 363\n",
            " 365 367 369 371 373 375 377 379 381 383 385 387 389 391 393 395 397 399\n",
            " 401 403]\n",
            "X_Test : \n",
            "\n",
            " [3000 3001 3002 3003 3004 3005 3006 3007 3008 3009 3010 3011 3012 3013\n",
            " 3014 3015 3016 3017 3018 3019 3020 3021 3022 3023 3024 3025 3026 3027\n",
            " 3028 3029 3030 3031 3032 3033 3034 3035 3036 3037 3038 3039 3040 3041\n",
            " 3042 3043 3044 3045 3046 3047 3048 3049]\n",
            "Y_Test : \n",
            "\n",
            " [6005 6007 6009 6011 6013 6015 6017 6019 6021 6023 6025 6027 6029 6031\n",
            " 6033 6035 6037 6039 6041 6043 6045 6047 6049 6051 6053 6055 6057 6059\n",
            " 6061 6063 6065 6067 6069 6071 6073 6075 6077 6079 6081 6083 6085 6087\n",
            " 6089 6091 6093 6095 6097 6099 6101 6103]\n"
          ],
          "name": "stdout"
        }
      ]
    },
    {
      "cell_type": "code",
      "metadata": {
        "id": "lyot8UCMCZRw",
        "colab_type": "code",
        "colab": {}
      },
      "source": [
        "#Now When Complete Data Preparation Is Done Let's Get Started With Modelling\n",
        "from tensorflow.keras.models import Sequential\n",
        "from tensorflow.keras.layers import Dense"
      ],
      "execution_count": 14,
      "outputs": []
    },
    {
      "cell_type": "code",
      "metadata": {
        "id": "sG3Xz3hXDhGb",
        "colab_type": "code",
        "colab": {}
      },
      "source": [
        "#Sequential Model Is Linear Model Like Normal Program Pipeline With No Parallel Processing\n",
        "#Dense Layer Is Nothing But Out Sweet Neuron Or Can Say WX+B Block\n",
        "model = Sequential([\n",
        "                    Dense(1,input_dim=1)\n",
        "])"
      ],
      "execution_count": 17,
      "outputs": []
    },
    {
      "cell_type": "code",
      "metadata": {
        "id": "pxhWp_KQEdOe",
        "colab_type": "code",
        "colab": {}
      },
      "source": [
        "#After Designing A Model We Need To Compile Our Neural Network\n",
        "model.compile(loss=\"mse\",optimizer='adam',metrics=['accuracy'])"
      ],
      "execution_count": 19,
      "outputs": []
    },
    {
      "cell_type": "code",
      "metadata": {
        "id": "Pm2hyl1fEqW5",
        "colab_type": "code",
        "colab": {}
      },
      "source": [
        "#Our Data And Model Are Ready Let's Begin With Training Part For 200 Epochs(Iterations)\n",
        "model.fit(X,Y,epochs=200,batch_size=2)"
      ],
      "execution_count": null,
      "outputs": []
    },
    {
      "cell_type": "code",
      "metadata": {
        "id": "WGz5K6g1FCU9",
        "colab_type": "code",
        "colab": {
          "base_uri": "https://localhost:8080/",
          "height": 265
        },
        "outputId": "8dc8b1d4-5d8c-4183-8af7-514436f0b5d0"
      },
      "source": [
        "import matplotlib.pyplot as plt\n",
        "plt.plot(Y_Test)\n",
        "plt.plot(model.predict(X_Test))\n",
        "plt.show()"
      ],
      "execution_count": 29,
      "outputs": [
        {
          "output_type": "display_data",
          "data": {
            "image/png": "[encoded data removed]",
            "text/plain": [
              "<Figure size 432x288 with 1 Axes>"
            ]
          },
          "metadata": {
            "tags": [],
            "needs_background": "light"
          }
        }
      ]
    },
    {
      "cell_type": "code",
      "metadata": {
        "id": "VHCNF5yCF_SM",
        "colab_type": "code",
        "colab": {
          "base_uri": "https://localhost:8080/",
          "height": 50
        },
        "outputId": "19bb8812-3a13-4073-d45f-edf31c6e89f7"
      },
      "source": [
        "#Question Comes That If We Train Our Model With 200 Values And Ask It To Solve Something Difficult Can It ?\n",
        "\n",
        "#Let's Try For Major Number Like 3000 For Estimation Function \n",
        "print(model.predict([3000]))  #Answer Will Be 6004.9995 || 6005 YAY !!!\n",
        "\n",
        "#But Is Giant Number Like 3000 Will Satisfy Us ? NO!\n",
        "\n",
        "#Let's Try With Negative Numbers Like -10 Which Should Be -15 When Applied To 2x+5\n",
        "print(model.predict([-10])) # This Might Surprise You For Sure \n",
        "\n",
        "#Moral Of The Story You Trained Network With 200 Positive Numbers \n",
        "#But Still It Responds Numbers Like 3000 and -15 Which Are Unseen\n",
        "#Only Because It Has Learnt 2x + 5 And Generated Formula Estimation Byself \n",
        "\n",
        "#Welcome To World Of Artificial Intelligence \n",
        "# Stay Tuned"
      ],
      "execution_count": 33,
      "outputs": [
        {
          "output_type": "stream",
          "text": [
            "[[6004.9995]]\n",
            "[[-15.000107]]\n"
          ],
          "name": "stdout"
        }
      ]
    }
  ]
}