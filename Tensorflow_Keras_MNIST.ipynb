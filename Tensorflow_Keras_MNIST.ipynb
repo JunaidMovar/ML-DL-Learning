{
  "nbformat": 4,
  "nbformat_minor": 0,
  "metadata": {
    "colab": {
      "name": "Tensorflow_Keras_MNIST",
      "provenance": [],
      "collapsed_sections": [],
      "include_colab_link": true
    },
    "kernelspec": {
      "name": "python3",
      "display_name": "Python 3"
    },
    "accelerator": "GPU"
  },
  "cells": [
    {
      "cell_type": "markdown",
      "metadata": {
        "id": "view-in-github",
        "colab_type": "text"
      },
      "source": [
        "<a href=\"https://colab.research.google.com/github/JunaidMovar/ML-DL-Learning/blob/master/Tensorflow_Keras_MNIST.ipynb\" target=\"_parent\"><img src=\"https://colab.research.google.com/assets/colab-badge.svg\" alt=\"Open In Colab\"/></a>"
      ]
    },
    {
      "cell_type": "code",
      "metadata": {
        "id": "M8rBLi7w9gu9",
        "colab_type": "code",
        "colab": {
          "base_uri": "https://localhost:8080/",
          "height": 63
        },
        "outputId": "e7ca4415-a39f-40da-b278-8e5b69bc9e12"
      },
      "source": [
        "import tensorflow as tf\n",
        "from tensorflow.keras.layers import Input,Dense,Conv2D,MaxPool2D,Dropout,Flatten\n",
        "from tensorflow.keras.datasets import mnist\n",
        "import matplotlib.pyplot as pl\n",
        "import numpy as np"
      ],
      "execution_count": null,
      "outputs": [
        {
          "output_type": "display_data",
          "data": {
            "text/html": [
              "<p style=\"color: red;\">\n",
              "The default version of TensorFlow in Colab will soon switch to TensorFlow 2.x.<br>\n",
              "We recommend you <a href=\"https://www.tensorflow.org/guide/migrate\" target=\"_blank\">upgrade</a> now \n",
              "or ensure your notebook will continue to use TensorFlow 1.x via the <code>%tensorflow_version 1.x</code> magic:\n",
              "<a href=\"https://colab.research.google.com/notebooks/tensorflow_version.ipynb\" target=\"_blank\">more info</a>.</p>\n"
            ],
            "text/plain": [
              "<IPython.core.display.HTML object>"
            ]
          },
          "metadata": {
            "tags": []
          }
        }
      ]
    },
    {
      "cell_type": "code",
      "metadata": {
        "id": "zl0zJ9nTMMBM",
        "colab_type": "code",
        "colab": {}
      },
      "source": [
        "np.random.seed(10)\n",
        "(XTrain,YTrain),(XTest,YTest) = mnist.load_data()"
      ],
      "execution_count": null,
      "outputs": []
    },
    {
      "cell_type": "code",
      "metadata": {
        "id": "tfM65Zv5MdiE",
        "colab_type": "code",
        "colab": {
          "base_uri": "https://localhost:8080/",
          "height": 102
        },
        "outputId": "abf3f6fc-cf87-49e8-fc25-f7390588c9fd"
      },
      "source": [
        "print('Shapes : ')\n",
        "\n",
        "XTrain.shape = (XTrain.shape[0],XTrain.shape[1],XTrain.shape[2],1)\n",
        "XTest.shape = (XTest.shape[0],XTest.shape[1],XTest.shape[2],1)\n",
        "\n",
        "XTrain = XTrain / 255\n",
        "XTest = XTest / 255\n",
        "\n",
        "YTest = tf.keras.utils.to_categorical(YTest)\n",
        "YTrain = tf.keras.utils.to_categorical(YTrain)\n",
        "\n",
        "\n",
        "print(XTrain.shape)\n",
        "print(XTest.shape)\n",
        "print(YTrain.shape)\n",
        "print(YTest.shape)"
      ],
      "execution_count": null,
      "outputs": [
        {
          "output_type": "stream",
          "text": [
            "Shapes : \n",
            "(60000, 28, 28, 1)\n",
            "(10000, 28, 28, 1)\n",
            "(60000, 10)\n",
            "(10000, 10)\n"
          ],
          "name": "stdout"
        }
      ]
    },
    {
      "cell_type": "code",
      "metadata": {
        "id": "cGgFugrXNyeg",
        "colab_type": "code",
        "colab": {
          "base_uri": "https://localhost:8080/",
          "height": 352
        },
        "outputId": "d5e15426-1eca-4ac2-f0b7-e3f5c702542f"
      },
      "source": [
        "photo = XTrain[0].reshape(28,28)\n",
        "print(photo.shape)\n",
        "pl.imshow(photo)\n",
        "pl.title(YTrain[0])\n",
        "pl.show()\n"
      ],
      "execution_count": null,
      "outputs": [
        {
          "output_type": "stream",
          "text": [
            "(28, 28)\n"
          ],
          "name": "stdout"
        },
        {
          "output_type": "stream",
          "text": [
            "/usr/local/lib/python3.6/dist-packages/matplotlib/text.py:1150: FutureWarning: elementwise comparison failed; returning scalar instead, but in the future will perform elementwise comparison\n",
            "  if s != self._text:\n"
          ],
          "name": "stderr"
        },
        {
          "output_type": "display_data",
          "data": {
            "image/png": "[encoded data removed]",
            "text/plain": [
              "<Figure size 432x288 with 1 Axes>"
            ]
          },
          "metadata": {
            "tags": []
          }
        }
      ]
    },
    {
      "cell_type": "code",
      "metadata": {
        "id": "ORRhPpwE-YuD",
        "colab_type": "code",
        "colab": {
          "base_uri": "https://localhost:8080/",
          "height": 530
        },
        "outputId": "bfcde10a-8364-41c8-a5e5-9978543313ae"
      },
      "source": [
        "model = tf.keras.models.Sequential()\n",
        "model.add(Conv2D(32,(5,5),input_shape=(28,28,1),padding='valid',activation='relu'))\n",
        "model.add(MaxPool2D())\n",
        "model.add(Dropout(0.2))\n",
        "\n",
        "model.add(Conv2D(32,(3,3),input_shape=XTrain.shape,padding='valid',activation='relu'))\n",
        "model.add(MaxPool2D())\n",
        "model.add(Dropout(0.2))\n",
        "model.add(Flatten())\n",
        "model.add(Dense(128,activation='relu'))\n",
        "model.add(Dense(10,activation='sigmoid'))\n",
        "model.summary()\n"
      ],
      "execution_count": null,
      "outputs": [
        {
          "output_type": "stream",
          "text": [
            "WARNING:tensorflow:From /usr/local/lib/python3.6/dist-packages/tensorflow_core/python/ops/resource_variable_ops.py:1630: calling BaseResourceVariable.__init__ (from tensorflow.python.ops.resource_variable_ops) with constraint is deprecated and will be removed in a future version.\n",
            "Instructions for updating:\n",
            "If using Keras pass *_constraint arguments to layers.\n",
            "Model: \"sequential\"\n",
            "_________________________________________________________________\n",
            "Layer (type)                 Output Shape              Param #   \n",
            "=================================================================\n",
            "conv2d (Conv2D)              (None, 24, 24, 32)        832       \n",
            "_________________________________________________________________\n",
            "max_pooling2d (MaxPooling2D) (None, 12, 12, 32)        0         \n",
            "_________________________________________________________________\n",
            "dropout (Dropout)            (None, 12, 12, 32)        0         \n",
            "_________________________________________________________________\n",
            "conv2d_1 (Conv2D)            (None, 10, 10, 32)        9248      \n",
            "_________________________________________________________________\n",
            "max_pooling2d_1 (MaxPooling2 (None, 5, 5, 32)          0         \n",
            "_________________________________________________________________\n",
            "dropout_1 (Dropout)          (None, 5, 5, 32)          0         \n",
            "_________________________________________________________________\n",
            "flatten (Flatten)            (None, 800)               0         \n",
            "_________________________________________________________________\n",
            "dense (Dense)                (None, 128)               102528    \n",
            "_________________________________________________________________\n",
            "dense_1 (Dense)              (None, 10)                1290      \n",
            "=================================================================\n",
            "Total params: 113,898\n",
            "Trainable params: 113,898\n",
            "Non-trainable params: 0\n",
            "_________________________________________________________________\n"
          ],
          "name": "stdout"
        }
      ]
    },
    {
      "cell_type": "code",
      "metadata": {
        "id": "nEgOuwi5RoS7",
        "colab_type": "code",
        "colab": {}
      },
      "source": [
        "model.compile(loss='categorical_crossentropy',optimizer='adam',metrics=['accuracy'])"
      ],
      "execution_count": null,
      "outputs": []
    },
    {
      "cell_type": "code",
      "metadata": {
        "id": "Zn29nuhKR6VC",
        "colab_type": "code",
        "colab": {
          "base_uri": "https://localhost:8080/",
          "height": 445
        },
        "outputId": "c11f0fc8-ce88-4c75-8e6d-f18b1fbf6351"
      },
      "source": [
        "#Strategy = tf.distribute.MirroredStrategy()\n",
        "#with Strategy.scope():\n",
        "History = model.fit(XTrain,YTrain,epochs=10,batch_size=10,validation_split=0.2)"
      ],
      "execution_count": null,
      "outputs": [
        {
          "output_type": "stream",
          "text": [
            "WARNING:tensorflow:From /usr/local/lib/python3.6/dist-packages/tensorflow_core/python/ops/math_grad.py:1424: where (from tensorflow.python.ops.array_ops) is deprecated and will be removed in a future version.\n",
            "Instructions for updating:\n",
            "Use tf.where in 2.0, which has the same broadcast rule as np.where\n",
            "Train on 48000 samples, validate on 12000 samples\n",
            "Epoch 1/10\n",
            "48000/48000 [==============================] - 19s 405us/sample - loss: 0.1604 - acc: 0.9505 - val_loss: 0.0695 - val_acc: 0.9774\n",
            "Epoch 2/10\n",
            "48000/48000 [==============================] - 18s 365us/sample - loss: 0.0636 - acc: 0.9798 - val_loss: 0.0433 - val_acc: 0.9855\n",
            "Epoch 3/10\n",
            "48000/48000 [==============================] - 17s 354us/sample - loss: 0.0488 - acc: 0.9853 - val_loss: 0.0394 - val_acc: 0.9874\n",
            "Epoch 4/10\n",
            "48000/48000 [==============================] - 17s 358us/sample - loss: 0.0405 - acc: 0.9869 - val_loss: 0.0322 - val_acc: 0.9904\n",
            "Epoch 5/10\n",
            "48000/48000 [==============================] - 17s 363us/sample - loss: 0.0360 - acc: 0.9893 - val_loss: 0.0365 - val_acc: 0.9893\n",
            "Epoch 6/10\n",
            "48000/48000 [==============================] - 17s 360us/sample - loss: 0.0330 - acc: 0.9902 - val_loss: 0.0397 - val_acc: 0.9888\n",
            "Epoch 7/10\n",
            "48000/48000 [==============================] - 17s 358us/sample - loss: 0.0297 - acc: 0.9904 - val_loss: 0.0326 - val_acc: 0.9906\n",
            "Epoch 8/10\n",
            "48000/48000 [==============================] - 17s 354us/sample - loss: 0.0289 - acc: 0.9909 - val_loss: 0.0358 - val_acc: 0.9901\n",
            "Epoch 9/10\n",
            "48000/48000 [==============================] - 17s 354us/sample - loss: 0.0263 - acc: 0.9919 - val_loss: 0.0328 - val_acc: 0.9913\n",
            "Epoch 10/10\n",
            "48000/48000 [==============================] - 17s 363us/sample - loss: 0.0256 - acc: 0.9926 - val_loss: 0.0286 - val_acc: 0.9927\n"
          ],
          "name": "stdout"
        }
      ]
    },
    {
      "cell_type": "code",
      "metadata": {
        "id": "Tq3pdWAbS7Qc",
        "colab_type": "code",
        "colab": {
          "base_uri": "https://localhost:8080/",
          "height": 281
        },
        "outputId": "b1ae691c-9f39-4071-804d-0d41ac57ba37"
      },
      "source": [
        "pl.plot(History.history['acc'])\n",
        "pl.plot(History.history['loss'])\n",
        "pl.title('Training')\n",
        "pl.show()"
      ],
      "execution_count": null,
      "outputs": [
        {
          "output_type": "display_data",
          "data": {
            "image/png": "[encoded data removed]",
            "text/plain": [
              "<Figure size 432x288 with 1 Axes>"
            ]
          },
          "metadata": {
            "tags": []
          }
        }
      ]
    },
    {
      "cell_type": "code",
      "metadata": {
        "id": "R6ddPZezO2yX",
        "colab_type": "code",
        "colab": {
          "base_uri": "https://localhost:8080/",
          "height": 265
        },
        "outputId": "d4b65fb7-1bfc-4a56-b68a-8d0ba91c2c69"
      },
      "source": [
        "pl.plot(History.history['val_acc'])\n",
        "pl.plot(History.history['val_loss'])\n",
        "pl.show()"
      ],
      "execution_count": null,
      "outputs": [
        {
          "output_type": "display_data",
          "data": {
            "image/png": "[encoded data removed]",
            "text/plain": [
              "<Figure size 432x288 with 1 Axes>"
            ]
          },
          "metadata": {
            "tags": []
          }
        }
      ]
    },
    {
      "cell_type": "code",
      "metadata": {
        "id": "yVZrnDBCMKTA",
        "colab_type": "code",
        "colab": {
          "base_uri": "https://localhost:8080/",
          "height": 281
        },
        "outputId": "e6f0a630-5c5e-43d9-af3a-fc862e6a5c88"
      },
      "source": [
        "pl.imshow(XTest[12].reshape(28,28))\n",
        "pl.title(np.argmax(YTest[12]))\n",
        "pl.show()"
      ],
      "execution_count": null,
      "outputs": [
        {
          "output_type": "display_data",
          "data": {
            "image/png": "[encoded data removed]",
            "text/plain": [
              "<Figure size 432x288 with 1 Axes>"
            ]
          },
          "metadata": {
            "tags": []
          }
        }
      ]
    },
    {
      "cell_type": "code",
      "metadata": {
        "id": "UBkIpmOdciqB",
        "colab_type": "code",
        "colab": {
          "base_uri": "https://localhost:8080/",
          "height": 332
        },
        "outputId": "11edc08e-2964-4160-ffbe-42b301d06da9"
      },
      "source": [
        "print(model.predict_classes([[XTest[12]]]))\n",
        "print(model.predict([[XTest[12]]]))\n",
        "\n",
        "\n",
        "\n",
        "pl.bar([a for a in range(10)],model.predict([[XTest[12]]])[0])\n",
        "pl.title('Prediction For First Digit')\n",
        "pl.xticks([a for a in range(10)])\n",
        "pl.show()\n"
      ],
      "execution_count": null,
      "outputs": [
        {
          "output_type": "stream",
          "text": [
            "[9]\n",
            "[[0.0000000e+00 0.0000000e+00 0.0000000e+00 0.0000000e+00 8.2314014e-05\n",
            "  2.9802322e-08 0.0000000e+00 0.0000000e+00 1.4234153e-06 9.7630227e-01]]\n"
          ],
          "name": "stdout"
        },
        {
          "output_type": "display_data",
          "data": {
            "image/png": "[encoded data removed]",
            "text/plain": [
              "<Figure size 432x288 with 1 Axes>"
            ]
          },
          "metadata": {
            "tags": []
          }
        }
      ]
    }
  ]
}